{
 "cells": [
  {
   "cell_type": "code",
   "execution_count": 0,
   "metadata": {
    "colab": {},
    "colab_type": "code",
    "id": "yQqaVyvHCFKf",
    "outputId": "181013e6-8c47-4ee5-a1ce-b70fc6a130a9"
   },
   "outputs": [
    {
     "name": "stderr",
     "output_type": "stream",
     "text": [
      "Using TensorFlow backend.\n"
     ]
    }
   ],
   "source": [
    "import os\n",
    "import glob\n",
    "import pathlib\n",
    "from tqdm import tqdm\n",
    "from PIL import Image\n",
    "import cv2\n",
    "import numpy as np\n",
    "import pandas as pd\n",
    "import matplotlib.pyplot as plt \n",
    "from matplotlib.image import imread\n",
    "import seaborn as sns\n",
    "\n",
    "from sklearn.utils import shuffle\n",
    "\n",
    "import tensorflow.keras\n",
    "import keras\n",
    "from tensorflow.keras.preprocessing.image import load_img\n",
    "from tensorflow.keras.preprocessing.image import img_to_array\n",
    "from tensorflow.keras.constraints import MaxNorm\n",
    "from tensorflow.keras.models import Sequential\n",
    "from tensorflow.keras.optimizers import SGD\n",
    "from keras.utils import np_utils\n",
    "from tensorflow.keras.preprocessing.image import ImageDataGenerator\n",
    "from tensorflow.keras.layers import Dense, Activation, Flatten, Dropout, BatchNormalization\n",
    "from tensorflow.keras.layers import Conv2D, MaxPooling2D\n",
    "from tensorflow.keras.datasets import cifar10\n",
    "from tensorflow.keras import regularizers\n",
    "from tensorflow.keras.callbacks import LearningRateScheduler\n",
    "\n",
    "plt.rcParams['figure.figsize'] = (7,7)\n",
    "%matplotlib inline\n",
    "import warnings\n",
    "warnings.filterwarnings('ignore')\n",
    "SEED = 42"
   ]
  },
  {
   "cell_type": "code",
   "execution_count": 0,
   "metadata": {
    "colab": {},
    "colab_type": "code",
    "id": "8_A6CsWlCFKk"
   },
   "outputs": [],
   "source": [
    "img_dim = (128, 128)\n",
    "num_classes = 20\n",
    "batch_size = 128\n",
    "epochs = 10"
   ]
  },
  {
   "cell_type": "code",
   "execution_count": 0,
   "metadata": {
    "colab": {},
    "colab_type": "code",
    "id": "ltT50HvLCFKn"
   },
   "outputs": [],
   "source": [
    "def get_images(directory):\n",
    "    images = []\n",
    "    labels = []\n",
    "    y = 0\n",
    "    \n",
    "    for label in tqdm(os.listdir(directory)): \n",
    "        \n",
    "        if label == '368': \n",
    "            y = 0\n",
    "        elif label == '52':\n",
    "            y = 1\n",
    "        elif label == '284':\n",
    "            y = 2\n",
    "        elif label == '461':\n",
    "            y = 3\n",
    "        elif label == '111':\n",
    "            y = 4\n",
    "        elif label == '505':\n",
    "            y = 5\n",
    "        elif label == '48':\n",
    "            y = 6\n",
    "        elif label == '155':\n",
    "            y = 7\n",
    "        elif label == '228':\n",
    "            y = 8\n",
    "        elif label == '160':\n",
    "            y = 9\n",
    "        elif label == '137':\n",
    "            y = 10\n",
    "        elif label == '33':\n",
    "            y = 11\n",
    "        elif label == '42':\n",
    "            y = 12\n",
    "        elif label == '516':\n",
    "            y = 13\n",
    "        elif label == '50':\n",
    "            y = 14\n",
    "        \n",
    "        for image_file in os.listdir(directory + label): \n",
    "            image = cv2.imread(directory+label+r'/'+image_file)\n",
    "            image = cv2.resize(image, img_dim)\n",
    "            images.append(image)\n",
    "            labels.append(y)\n",
    "    \n",
    "    return shuffle(images, labels, random_state=SEED)"
   ]
  },
  {
   "cell_type": "code",
   "execution_count": 0,
   "metadata": {
    "colab": {},
    "colab_type": "code",
    "id": "EOtbV59hCFKq",
    "outputId": "d214050a-c06a-4996-c40b-9774c3fa510c"
   },
   "outputs": [
    {
     "name": "stderr",
     "output_type": "stream",
     "text": [
      "100%|██████████████████████████████████████████████████████████████████████████████████| 20/20 [07:04<00:00, 21.21s/it]\n"
     ]
    }
   ],
   "source": [
    "train_images, train_labels = get_images('data/training/')\n",
    "train_images = np.array(train_images)\n",
    "train_labels = np.array(train_labels)"
   ]
  },
  {
   "cell_type": "code",
   "execution_count": 0,
   "metadata": {
    "colab": {},
    "colab_type": "code",
    "id": "kLOfcAu6CFKt",
    "outputId": "4bb698ca-665c-4527-d49c-74b27de0bb9b"
   },
   "outputs": [
    {
     "name": "stderr",
     "output_type": "stream",
     "text": [
      "100%|██████████████████████████████████████████████████████████████████████████████████| 20/20 [00:40<00:00,  2.03s/it]\n"
     ]
    }
   ],
   "source": [
    "val_images, val_labels = get_images('data/validation/')\n",
    "val_images = np.array(val_images)\n",
    "val_labels = np.array(val_labels)"
   ]
  },
  {
   "cell_type": "code",
   "execution_count": 0,
   "metadata": {
    "colab": {},
    "colab_type": "code",
    "id": "aLMjdKG_CFKx",
    "outputId": "09b29c28-bcfb-4860-b513-bc997162cf1c"
   },
   "outputs": [
    {
     "name": "stderr",
     "output_type": "stream",
     "text": [
      "100%|██████████████████████████████████████████████████████████████████████████████████| 20/20 [01:41<00:00,  5.10s/it]\n"
     ]
    }
   ],
   "source": [
    "test_images, test_labels = get_images('data/testing/')\n",
    "test_images = np.array(test_images)\n",
    "test_labels = np.array(test_labels)"
   ]
  },
  {
   "cell_type": "code",
   "execution_count": 0,
   "metadata": {
    "colab": {},
    "colab_type": "code",
    "id": "oKaLK7QTCFK1"
   },
   "outputs": [],
   "source": [
    "np.save('data/train_images', train_images)\n",
    "np.save('data/train_labels', train_labels)\n",
    "np.save('data/val_images', val_images)\n",
    "np.save('data/val_labels', val_labels)\n",
    "np.save('data/test_images', test_images)\n",
    "np.save('data/test_labels', test_labels)"
   ]
  }
 ],
 "metadata": {
  "colab": {
   "name": "Untitled1.ipynb",
   "provenance": []
  },
  "kernelspec": {
   "display_name": "Python 3",
   "language": "python",
   "name": "python3"
  },
  "language_info": {
   "codemirror_mode": {
    "name": "ipython",
    "version": 3
   },
   "file_extension": ".py",
   "mimetype": "text/x-python",
   "name": "python",
   "nbconvert_exporter": "python",
   "pygments_lexer": "ipython3",
   "version": "3.7.4"
  }
 },
 "nbformat": 4,
 "nbformat_minor": 1
}
