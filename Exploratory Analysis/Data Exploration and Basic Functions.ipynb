{
 "cells": [
  {
   "cell_type": "markdown",
   "metadata": {},
   "source": [
    "## Data Exploration and Basic Function Definition"
   ]
  },
  {
   "cell_type": "code",
   "execution_count": 31,
   "metadata": {},
   "outputs": [],
   "source": [
    "import pandas as pd\n",
    "from collections import Counter\n",
    "import itertools"
   ]
  },
  {
   "cell_type": "markdown",
   "metadata": {},
   "source": [
    "### dim_fashion_matchsets:\n",
    "- coll_id: boundle ID\n",
    "- item_list: multiple items in each bundle\n",
    "    - separated by \";\" : items\n",
    "    - separated by \",\" : substitute items in a particular category"
   ]
  },
  {
   "cell_type": "code",
   "execution_count": 32,
   "metadata": {},
   "outputs": [
    {
     "data": {
      "text/html": [
       "<div>\n",
       "<style scoped>\n",
       "    .dataframe tbody tr th:only-of-type {\n",
       "        vertical-align: middle;\n",
       "    }\n",
       "\n",
       "    .dataframe tbody tr th {\n",
       "        vertical-align: top;\n",
       "    }\n",
       "\n",
       "    .dataframe thead th {\n",
       "        text-align: right;\n",
       "    }\n",
       "</style>\n",
       "<table border=\"1\" class=\"dataframe\">\n",
       "  <thead>\n",
       "    <tr style=\"text-align: right;\">\n",
       "      <th></th>\n",
       "      <th>coll_id</th>\n",
       "      <th>item_list</th>\n",
       "    </tr>\n",
       "  </thead>\n",
       "  <tbody>\n",
       "    <tr>\n",
       "      <th>0</th>\n",
       "      <td>1</td>\n",
       "      <td>160870;3118604</td>\n",
       "    </tr>\n",
       "    <tr>\n",
       "      <th>1</th>\n",
       "      <td>2</td>\n",
       "      <td>1842610;2741506</td>\n",
       "    </tr>\n",
       "    <tr>\n",
       "      <th>2</th>\n",
       "      <td>3</td>\n",
       "      <td>893028;993019,1375599,1913565,3036503;2849440;...</td>\n",
       "    </tr>\n",
       "    <tr>\n",
       "      <th>3</th>\n",
       "      <td>4</td>\n",
       "      <td>2612866;1272124;2181942</td>\n",
       "    </tr>\n",
       "    <tr>\n",
       "      <th>4</th>\n",
       "      <td>5</td>\n",
       "      <td>3128145;2683359;855149</td>\n",
       "    </tr>\n",
       "  </tbody>\n",
       "</table>\n",
       "</div>"
      ],
      "text/plain": [
       "   coll_id                                          item_list\n",
       "0        1                                     160870;3118604\n",
       "1        2                                    1842610;2741506\n",
       "2        3  893028;993019,1375599,1913565,3036503;2849440;...\n",
       "3        4                            2612866;1272124;2181942\n",
       "4        5                             3128145;2683359;855149"
      ]
     },
     "execution_count": 32,
     "metadata": {},
     "output_type": "execute_result"
    }
   ],
   "source": [
    "# load data\n",
    "dim_fashion_matchsets = pd.read_table('dim_fashion_matchsets(new).txt', sep='\\s+',names = ['coll_id','item_list'])\n",
    "dim_fashion_matchsets.head()"
   ]
  },
  {
   "cell_type": "code",
   "execution_count": 33,
   "metadata": {},
   "outputs": [
    {
     "data": {
      "text/plain": [
       "array([    1,     2,     3, ..., 23103, 23104, 23105])"
      ]
     },
     "execution_count": 33,
     "metadata": {},
     "output_type": "execute_result"
    }
   ],
   "source": [
    "dim_fashion_matchsets['coll_id'].unique()"
   ]
  },
  {
   "cell_type": "markdown",
   "metadata": {},
   "source": [
    "### dim_items:\n",
    "- item_id: individual product item ID\n",
    "- cat_id: the category that product item belongs to\n",
    "- terms: probably words (i.e. title/descriptions)\n",
    "- img_data: item image (image filename = item_id.jpg)"
   ]
  },
  {
   "cell_type": "code",
   "execution_count": 34,
   "metadata": {},
   "outputs": [
    {
     "data": {
      "text/html": [
       "<div>\n",
       "<style scoped>\n",
       "    .dataframe tbody tr th:only-of-type {\n",
       "        vertical-align: middle;\n",
       "    }\n",
       "\n",
       "    .dataframe tbody tr th {\n",
       "        vertical-align: top;\n",
       "    }\n",
       "\n",
       "    .dataframe thead th {\n",
       "        text-align: right;\n",
       "    }\n",
       "</style>\n",
       "<table border=\"1\" class=\"dataframe\">\n",
       "  <thead>\n",
       "    <tr style=\"text-align: right;\">\n",
       "      <th></th>\n",
       "      <th>item_id</th>\n",
       "      <th>cat_id</th>\n",
       "      <th>terms</th>\n",
       "      <th>img_data</th>\n",
       "    </tr>\n",
       "  </thead>\n",
       "  <tbody>\n",
       "    <tr>\n",
       "      <th>0</th>\n",
       "      <td>29</td>\n",
       "      <td>155</td>\n",
       "      <td>123950,53517,106068,59598,7503,171811,25618,14...</td>\n",
       "      <td>NaN</td>\n",
       "    </tr>\n",
       "    <tr>\n",
       "      <th>1</th>\n",
       "      <td>49</td>\n",
       "      <td>228</td>\n",
       "      <td>73035,33202,116593,48909,92233,181255,127004,3...</td>\n",
       "      <td>NaN</td>\n",
       "    </tr>\n",
       "    <tr>\n",
       "      <th>2</th>\n",
       "      <td>59</td>\n",
       "      <td>284</td>\n",
       "      <td>123950,38910,22837,5026,15459,47776,158346,101...</td>\n",
       "      <td>NaN</td>\n",
       "    </tr>\n",
       "    <tr>\n",
       "      <th>3</th>\n",
       "      <td>109</td>\n",
       "      <td>461</td>\n",
       "      <td>122071,35420,123950,27207,116593,24893,31897,1...</td>\n",
       "      <td>NaN</td>\n",
       "    </tr>\n",
       "    <tr>\n",
       "      <th>4</th>\n",
       "      <td>119</td>\n",
       "      <td>368</td>\n",
       "      <td>48909,125706,116593,179606,20819,158346,157222...</td>\n",
       "      <td>NaN</td>\n",
       "    </tr>\n",
       "  </tbody>\n",
       "</table>\n",
       "</div>"
      ],
      "text/plain": [
       "   item_id  cat_id                                              terms  \\\n",
       "0       29     155  123950,53517,106068,59598,7503,171811,25618,14...   \n",
       "1       49     228  73035,33202,116593,48909,92233,181255,127004,3...   \n",
       "2       59     284  123950,38910,22837,5026,15459,47776,158346,101...   \n",
       "3      109     461  122071,35420,123950,27207,116593,24893,31897,1...   \n",
       "4      119     368  48909,125706,116593,179606,20819,158346,157222...   \n",
       "\n",
       "   img_data  \n",
       "0       NaN  \n",
       "1       NaN  \n",
       "2       NaN  \n",
       "3       NaN  \n",
       "4       NaN  "
      ]
     },
     "execution_count": 34,
     "metadata": {},
     "output_type": "execute_result"
    }
   ],
   "source": [
    "dim_items = pd.read_table('dim_items(new).txt',sep = '\\s+' , names = ['item_id','cat_id','terms','img_data'])\n",
    "dim_items.head()"
   ]
  },
  {
   "cell_type": "code",
   "execution_count": 35,
   "metadata": {},
   "outputs": [
    {
     "data": {
      "text/plain": [
       "count    0.0\n",
       "mean     NaN\n",
       "std      NaN\n",
       "min      NaN\n",
       "25%      NaN\n",
       "50%      NaN\n",
       "75%      NaN\n",
       "max      NaN\n",
       "Name: img_data, dtype: float64"
      ]
     },
     "execution_count": 35,
     "metadata": {},
     "output_type": "execute_result"
    }
   ],
   "source": [
    "# no img_data in this table\n",
    "dim_items['img_data'].describe()"
   ]
  },
  {
   "cell_type": "code",
   "execution_count": 36,
   "metadata": {},
   "outputs": [
    {
     "data": {
      "text/html": [
       "<div>\n",
       "<style scoped>\n",
       "    .dataframe tbody tr th:only-of-type {\n",
       "        vertical-align: middle;\n",
       "    }\n",
       "\n",
       "    .dataframe tbody tr th {\n",
       "        vertical-align: top;\n",
       "    }\n",
       "\n",
       "    .dataframe thead th {\n",
       "        text-align: right;\n",
       "    }\n",
       "</style>\n",
       "<table border=\"1\" class=\"dataframe\">\n",
       "  <thead>\n",
       "    <tr style=\"text-align: right;\">\n",
       "      <th></th>\n",
       "      <th>user_id</th>\n",
       "      <th>item_id</th>\n",
       "      <th>create_at</th>\n",
       "    </tr>\n",
       "  </thead>\n",
       "  <tbody>\n",
       "    <tr>\n",
       "      <th>0</th>\n",
       "      <td>1915871</td>\n",
       "      <td>8</td>\n",
       "      <td>20150417</td>\n",
       "    </tr>\n",
       "    <tr>\n",
       "      <th>1</th>\n",
       "      <td>4371603</td>\n",
       "      <td>8</td>\n",
       "      <td>20150418</td>\n",
       "    </tr>\n",
       "    <tr>\n",
       "      <th>2</th>\n",
       "      <td>8034236</td>\n",
       "      <td>8</td>\n",
       "      <td>20150516</td>\n",
       "    </tr>\n",
       "    <tr>\n",
       "      <th>3</th>\n",
       "      <td>6135829</td>\n",
       "      <td>8</td>\n",
       "      <td>20150405</td>\n",
       "    </tr>\n",
       "    <tr>\n",
       "      <th>4</th>\n",
       "      <td>11650079</td>\n",
       "      <td>8</td>\n",
       "      <td>20150404</td>\n",
       "    </tr>\n",
       "  </tbody>\n",
       "</table>\n",
       "</div>"
      ],
      "text/plain": [
       "    user_id  item_id  create_at\n",
       "0   1915871        8   20150417\n",
       "1   4371603        8   20150418\n",
       "2   8034236        8   20150516\n",
       "3   6135829        8   20150405\n",
       "4  11650079        8   20150404"
      ]
     },
     "execution_count": 36,
     "metadata": {},
     "output_type": "execute_result"
    }
   ],
   "source": [
    "user_bought_history = pd.read_table('user_bought_history.txt', sep = '\\s+' , names = ['user_id','item_id','create_at'])\n",
    "user_bought_history.head()"
   ]
  },
  {
   "cell_type": "code",
   "execution_count": 37,
   "metadata": {},
   "outputs": [
    {
     "data": {
      "text/html": [
       "<div>\n",
       "<style scoped>\n",
       "    .dataframe tbody tr th:only-of-type {\n",
       "        vertical-align: middle;\n",
       "    }\n",
       "\n",
       "    .dataframe tbody tr th {\n",
       "        vertical-align: top;\n",
       "    }\n",
       "\n",
       "    .dataframe thead th {\n",
       "        text-align: right;\n",
       "    }\n",
       "</style>\n",
       "<table border=\"1\" class=\"dataframe\">\n",
       "  <thead>\n",
       "    <tr style=\"text-align: right;\">\n",
       "      <th></th>\n",
       "      <th>test_items_id</th>\n",
       "    </tr>\n",
       "  </thead>\n",
       "  <tbody>\n",
       "    <tr>\n",
       "      <th>0</th>\n",
       "      <td>1417</td>\n",
       "    </tr>\n",
       "    <tr>\n",
       "      <th>1</th>\n",
       "      <td>2227</td>\n",
       "    </tr>\n",
       "    <tr>\n",
       "      <th>2</th>\n",
       "      <td>3967</td>\n",
       "    </tr>\n",
       "    <tr>\n",
       "      <th>3</th>\n",
       "      <td>7237</td>\n",
       "    </tr>\n",
       "    <tr>\n",
       "      <th>4</th>\n",
       "      <td>8467</td>\n",
       "    </tr>\n",
       "  </tbody>\n",
       "</table>\n",
       "</div>"
      ],
      "text/plain": [
       "   test_items_id\n",
       "0           1417\n",
       "1           2227\n",
       "2           3967\n",
       "3           7237\n",
       "4           8467"
      ]
     },
     "execution_count": 37,
     "metadata": {},
     "output_type": "execute_result"
    }
   ],
   "source": [
    "test_items = pd.read_table('test_items(new).txt', names = ['test_items_id'])\n",
    "test_items.head()"
   ]
  },
  {
   "cell_type": "markdown",
   "metadata": {},
   "source": [
    "## Define functions"
   ]
  },
  {
   "cell_type": "code",
   "execution_count": 38,
   "metadata": {},
   "outputs": [],
   "source": [
    "class item(object):\n",
    "    def __init__(self,ID):\n",
    "        self.id = ID\n",
    "        self.match = []\n",
    "        self.replacement = []\n",
    "        self.title = []\n",
    "        self.category = []\n",
    "        self.buyer = [] # obj\n",
    "        self.buy_date = []\n",
    "        self.img_data = []\n",
    "        self.match_counter = []\n",
    "        self.replace_counter =[]\n",
    "        self.also_buy_counter = []"
   ]
  },
  {
   "cell_type": "code",
   "execution_count": 39,
   "metadata": {},
   "outputs": [],
   "source": [
    "class buyer(object):\n",
    "    def __init__(self,user_id,user_bought_history,items):\n",
    "        self.id = user_id\n",
    "        self.items = []\n",
    "    def get_buy_items(self,user_bought_history,items):\n",
    "        item_id = get_item_id_from_user_history(user_bought_history,self.id)\n",
    "        return [get_item(items,i) for i in item_id if i in [item.id for item in items]]"
   ]
  },
  {
   "cell_type": "markdown",
   "metadata": {},
   "source": [
    "### Function \"get_matchset\":  return the match set of coll_id"
   ]
  },
  {
   "cell_type": "code",
   "execution_count": 40,
   "metadata": {},
   "outputs": [],
   "source": [
    "# Given the product boundle ID, get the matched item list\n",
    "def get_matchset(dim_fashion_matchsets,coll_id): # coll_id: boundle ID\n",
    "    return dim_fashion_matchsets.item_list[dim_fashion_matchsets.coll_id == coll_id].values[0].split(';')   "
   ]
  },
  {
   "cell_type": "code",
   "execution_count": 72,
   "metadata": {},
   "outputs": [
    {
     "data": {
      "text/plain": [
       "['1463018,230955', '1596334,1704853', '2226122,284814,36278,480281']"
      ]
     },
     "execution_count": 72,
     "metadata": {},
     "output_type": "execute_result"
    }
   ],
   "source": [
    "# Check output when coll_id=11\n",
    "get_matchset(dim_fashion_matchsets,11)"
   ]
  },
  {
   "cell_type": "markdown",
   "metadata": {},
   "source": [
    "### Function \"get_replace_matchset\":  return the match set of coll_id (dealed with replace items)"
   ]
  },
  {
   "cell_type": "code",
   "execution_count": 75,
   "metadata": {},
   "outputs": [],
   "source": [
    "# Given the product boundle ID, get the matched replaced item list\n",
    "def get_replace_matchset(dim_fashion_matchsets,coll_id):\n",
    "    return [content.split(',') for content in get_matchset(dim_fashion_matchsets,coll_id)]"
   ]
  },
  {
   "cell_type": "code",
   "execution_count": 76,
   "metadata": {},
   "outputs": [
    {
     "data": {
      "text/plain": [
       "[['1463018', '230955'],\n",
       " ['1596334', '1704853'],\n",
       " ['2226122', '284814', '36278', '480281']]"
      ]
     },
     "execution_count": 76,
     "metadata": {},
     "output_type": "execute_result"
    }
   ],
   "source": [
    "# Check output when coll_id=11\n",
    "get_replace_matchset(dim_fashion_matchsets,11)"
   ]
  },
  {
   "cell_type": "markdown",
   "metadata": {},
   "source": [
    "### Function \"get_match_list\": return all the matched combinations of coll_id"
   ]
  },
  {
   "cell_type": "code",
   "execution_count": 78,
   "metadata": {},
   "outputs": [],
   "source": [
    "def get_match_list(dim_fashion_matchsets,coll_id):\n",
    "    matchset_combine = get_replace_matchset(dim_fashion_matchsets,coll_id)\n",
    "    prodcut_list = itertools.product(*matchset_combine)\n",
    "    match_list = [match for match in prodcut_list]\n",
    "    return match_list"
   ]
  },
  {
   "cell_type": "code",
   "execution_count": 79,
   "metadata": {},
   "outputs": [
    {
     "data": {
      "text/plain": [
       "[('1463018', '1596334', '2226122'),\n",
       " ('1463018', '1596334', '284814'),\n",
       " ('1463018', '1596334', '36278'),\n",
       " ('1463018', '1596334', '480281'),\n",
       " ('1463018', '1704853', '2226122'),\n",
       " ('1463018', '1704853', '284814'),\n",
       " ('1463018', '1704853', '36278'),\n",
       " ('1463018', '1704853', '480281'),\n",
       " ('230955', '1596334', '2226122'),\n",
       " ('230955', '1596334', '284814'),\n",
       " ('230955', '1596334', '36278'),\n",
       " ('230955', '1596334', '480281'),\n",
       " ('230955', '1704853', '2226122'),\n",
       " ('230955', '1704853', '284814'),\n",
       " ('230955', '1704853', '36278'),\n",
       " ('230955', '1704853', '480281')]"
      ]
     },
     "execution_count": 79,
     "metadata": {},
     "output_type": "execute_result"
    }
   ],
   "source": [
    "# Check output when coll_id=11\n",
    "get_match_list(dim_fashion_matchsets,11)"
   ]
  },
  {
   "cell_type": "markdown",
   "metadata": {},
   "source": [
    "### Function get_category(dim_items,item_id): return the category ID (cat_id) given an item_id"
   ]
  },
  {
   "cell_type": "code",
   "execution_count": 81,
   "metadata": {},
   "outputs": [],
   "source": [
    "def get_category(dim_items,item_id):\n",
    "    return dim_items.cat_id[dim_items.item_id == item_id].values[0]"
   ]
  },
  {
   "cell_type": "code",
   "execution_count": 82,
   "metadata": {},
   "outputs": [
    {
     "data": {
      "text/plain": [
       "368"
      ]
     },
     "execution_count": 82,
     "metadata": {},
     "output_type": "execute_result"
    }
   ],
   "source": [
    "# Check item_id = 33547\n",
    "get_category(dim_items,33547)"
   ]
  },
  {
   "cell_type": "markdown",
   "metadata": {},
   "source": [
    "### Function get_term_title(dim_items,item_id): return the title/desciption of this item"
   ]
  },
  {
   "cell_type": "code",
   "execution_count": 83,
   "metadata": {},
   "outputs": [],
   "source": [
    "def get_term_title(dim_items,item_id):\n",
    "    return dim_items.terms[dim_items.item_id == item_id].values[0].split(',')    "
   ]
  },
  {
   "cell_type": "code",
   "execution_count": 84,
   "metadata": {},
   "outputs": [
    {
     "data": {
      "text/plain": [
       "['162272',\n",
       " '123950',\n",
       " '182506',\n",
       " '116593',\n",
       " '48061',\n",
       " '52775',\n",
       " '216844',\n",
       " '56917',\n",
       " '32290',\n",
       " '31897',\n",
       " '71740',\n",
       " '24893',\n",
       " '146294',\n",
       " '205682',\n",
       " '131134',\n",
       " '130974',\n",
       " '20819']"
      ]
     },
     "execution_count": 84,
     "metadata": {},
     "output_type": "execute_result"
    }
   ],
   "source": [
    "# Check item_id = 33547\n",
    "get_term_title(dim_items,33547)"
   ]
  },
  {
   "cell_type": "markdown",
   "metadata": {},
   "source": [
    "### Function get_term_img_data(dim_items,item_id): return image data"
   ]
  },
  {
   "cell_type": "code",
   "execution_count": 85,
   "metadata": {},
   "outputs": [],
   "source": [
    "def get_term_img_data(dim_items,item_id):\n",
    "    return dim_items.img_data[dim_items.item_id == item_id].values   "
   ]
  },
  {
   "cell_type": "code",
   "execution_count": 86,
   "metadata": {},
   "outputs": [
    {
     "data": {
      "text/plain": [
       "array([nan])"
      ]
     },
     "execution_count": 86,
     "metadata": {},
     "output_type": "execute_result"
    }
   ],
   "source": [
    "# Check item_id = 33547\n",
    "get_term_img_data(dim_items,33547)"
   ]
  },
  {
   "cell_type": "markdown",
   "metadata": {},
   "source": [
    "### Function get_user_id(user_bought_history,item_id): return the buyer of this item"
   ]
  },
  {
   "cell_type": "code",
   "execution_count": 87,
   "metadata": {},
   "outputs": [],
   "source": [
    "def get_user_id(user_bought_history,item_id):\n",
    "    return list(user_bought_history.user_id[user_bought_history.item_id == item_id].values)    "
   ]
  },
  {
   "cell_type": "code",
   "execution_count": 91,
   "metadata": {},
   "outputs": [
    {
     "data": {
      "text/plain": [
       "[7581276,\n",
       " 7044613,\n",
       " 924592,\n",
       " 9061047,\n",
       " 12443054,\n",
       " 5427062,\n",
       " 5427062,\n",
       " 9368797,\n",
       " 7593526,\n",
       " 2153670]"
      ]
     },
     "execution_count": 91,
     "metadata": {},
     "output_type": "execute_result"
    }
   ],
   "source": [
    "# Check item_id = 33547\n",
    "get_user_id(user_bought_history,33547)[:10]"
   ]
  },
  {
   "cell_type": "markdown",
   "metadata": {},
   "source": [
    "### Function get_buy_date(user_bought_history,item_id): return the time of buying this item"
   ]
  },
  {
   "cell_type": "code",
   "execution_count": 92,
   "metadata": {},
   "outputs": [],
   "source": [
    "def get_buy_date(user_bought_history,item_id):\n",
    "    return list(user_bought_history.create_at[user_bought_history.item_id == item_id].values)    "
   ]
  },
  {
   "cell_type": "code",
   "execution_count": 94,
   "metadata": {},
   "outputs": [
    {
     "data": {
      "text/plain": [
       "[20150531,\n",
       " 20150525,\n",
       " 20150506,\n",
       " 20150527,\n",
       " 20150528,\n",
       " 20150523,\n",
       " 20150526,\n",
       " 20150609,\n",
       " 20150428,\n",
       " 20150510]"
      ]
     },
     "execution_count": 94,
     "metadata": {},
     "output_type": "execute_result"
    }
   ],
   "source": [
    "# Check item_id = 33547\n",
    "get_buy_date(user_bought_history,33547)[:10]"
   ]
  },
  {
   "cell_type": "code",
   "execution_count": 97,
   "metadata": {},
   "outputs": [],
   "source": [
    "#futher split the buying date into year, month and day\n",
    "def get_detail_buy_date(buy_date_list):\n",
    "    year = []\n",
    "    month =[]\n",
    "    day =[]\n",
    "    for i in range(len(buy_date_list)):\n",
    "        date = str(buy_date_list[i])\n",
    "        year.append(date[:4])\n",
    "        month.append(date[4:6])\n",
    "        day.append(date[6:])\n",
    "    return year , month , day"
   ]
  },
  {
   "cell_type": "code",
   "execution_count": 99,
   "metadata": {},
   "outputs": [
    {
     "data": {
      "text/plain": [
       "(['2015',\n",
       "  '2015',\n",
       "  '2015',\n",
       "  '2015',\n",
       "  '2015',\n",
       "  '2015',\n",
       "  '2015',\n",
       "  '2015',\n",
       "  '2015',\n",
       "  '2015'],\n",
       " ['05', '05', '05', '05', '05', '05', '05', '06', '04', '05'],\n",
       " ['31', '25', '06', '27', '28', '23', '26', '09', '28', '10'])"
      ]
     },
     "execution_count": 99,
     "metadata": {},
     "output_type": "execute_result"
    }
   ],
   "source": [
    "# Check item_id = 33547\n",
    "get_detail_buy_date(get_buy_date(user_bought_history,33547)[:10])"
   ]
  },
  {
   "cell_type": "code",
   "execution_count": null,
   "metadata": {},
   "outputs": [],
   "source": []
  }
 ],
 "metadata": {
  "kernelspec": {
   "display_name": "Python 3",
   "language": "python",
   "name": "python3"
  },
  "language_info": {
   "codemirror_mode": {
    "name": "ipython",
    "version": 3
   },
   "file_extension": ".py",
   "mimetype": "text/x-python",
   "name": "python",
   "nbconvert_exporter": "python",
   "pygments_lexer": "ipython3",
   "version": "3.7.6"
  }
 },
 "nbformat": 4,
 "nbformat_minor": 4
}
